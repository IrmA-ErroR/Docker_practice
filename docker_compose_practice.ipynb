{
 "cells": [
  {
   "cell_type": "markdown",
   "metadata": {},
   "source": [
    "# Docker compose\n",
    "\n",
    "Это надстройка над докером, которая позволяет запускать множество контейнеров одновременно и маршрутизировать потоки данных между ними. (написанна на Python)\n",
    "Для каждого проекта (кластера контейнеров) Docker создаёт свою сеть, где контейнеры могут обращаться друг к другу по именам, которые мы укажем в docker-compose.yml."
   ]
  },
  {
   "cell_type": "markdown",
   "metadata": {},
   "source": [
    "Убедимся, что при установке Docker сразу подтягивается Docker-compose"
   ]
  },
  {
   "cell_type": "code",
   "execution_count": 3,
   "metadata": {},
   "outputs": [
    {
     "name": "stdout",
     "output_type": "stream",
     "text": [
      "Defaulting to user installation because normal site-packages is not writeable\n",
      "Requirement already satisfied: docker in /usr/lib/python3/dist-packages (5.0.3)\n"
     ]
    }
   ],
   "source": [
    "! pip install docker"
   ]
  },
  {
   "cell_type": "markdown",
   "metadata": {},
   "source": [
    "Основную информацию и базовые команды получаем стандартным флагом ```--help```"
   ]
  },
  {
   "cell_type": "code",
   "execution_count": 6,
   "metadata": {},
   "outputs": [
    {
     "name": "stdout",
     "output_type": "stream",
     "text": [
      "\n",
      "Usage:  docker compose [OPTIONS] COMMAND\n",
      "\n",
      "Define and run multi-container applications with Docker\n",
      "\n",
      "Options:\n",
      "      --all-resources              Include all resources, even those not\n",
      "                                   used by services\n",
      "      --ansi string                Control when to print ANSI control\n",
      "                                   characters (\"never\"|\"always\"|\"auto\")\n",
      "                                   (default \"auto\")\n",
      "      --compatibility              Run compose in backward compatibility mode\n",
      "      --dry-run                    Execute command in dry run mode\n",
      "      --env-file stringArray       Specify an alternate environment file\n",
      "  -f, --file stringArray           Compose configuration files\n",
      "      --parallel int               Control max parallelism, -1 for\n",
      "                                   unlimited (default -1)\n",
      "      --profile stringArray        Specify a profile to enable\n",
      "      --progress string            Set type of progress output (auto,\n",
      "                                   tty, plain, quiet) (default \"auto\")\n",
      "      --project-directory string   Specify an alternate working directory\n",
      "                                   (default: the path of the, first\n",
      "                                   specified, Compose file)\n",
      "  -p, --project-name string        Project name\n",
      "\n",
      "Commands:\n",
      "  attach      Attach local standard input, output, and error streams to a service's running container\n",
      "  build       Build or rebuild services\n",
      "  config      Parse, resolve and render compose file in canonical format\n",
      "  cp          Copy files/folders between a service container and the local filesystem\n",
      "  create      Creates containers for a service\n",
      "  down        Stop and remove containers, networks\n",
      "  events      Receive real time events from containers\n",
      "  exec        Execute a command in a running container\n",
      "  images      List images used by the created containers\n",
      "  kill        Force stop service containers\n",
      "  logs        View output from containers\n",
      "  ls          List running compose projects\n",
      "  pause       Pause services\n",
      "  port        Print the public port for a port binding\n",
      "  ps          List containers\n",
      "  pull        Pull service images\n",
      "  push        Push service images\n",
      "  restart     Restart service containers\n",
      "  rm          Removes stopped service containers\n",
      "  run         Run a one-off command on a service\n",
      "  scale       Scale services \n",
      "  start       Start services\n",
      "  stats       Display a live stream of container(s) resource usage statistics\n",
      "  stop        Stop services\n",
      "  top         Display the running processes\n",
      "  unpause     Unpause services\n",
      "  up          Create and start containers\n",
      "  version     Show the Docker Compose version information\n",
      "  wait        Block until the first service container stops\n",
      "  watch       Watch build context for service and rebuild/refresh containers when files are updated\n",
      "\n",
      "Run 'docker compose COMMAND --help' for more information on a command.\n"
     ]
    }
   ],
   "source": [
    "! docker compose --help"
   ]
  },
  {
   "cell_type": "markdown",
   "metadata": {},
   "source": [
    "Пример: "
   ]
  },
  {
   "cell_type": "code",
   "execution_count": 9,
   "metadata": {},
   "outputs": [
    {
     "name": "stderr",
     "output_type": "stream",
     "text": [
      "158.16s - pydevd: Sending message related to process being replaced timed-out after 5 seconds\n"
     ]
    },
    {
     "name": "stdout",
     "output_type": "stream",
     "text": [
      "services:\n",
      "  redis:\n",
      "    image: redis\n",
      "  rocketcounter:\n",
      "    image: rotorocloud/rocket-counter\n",
      "    ports:\n",
      "    - 8085:5000\n",
      "version: '3.0'"
     ]
    }
   ],
   "source": [
    "! cat docker-compose.yml"
   ]
  },
  {
   "cell_type": "code",
   "execution_count": 11,
   "metadata": {},
   "outputs": [
    {
     "name": "stderr",
     "output_type": "stream",
     "text": [
      "217.92s - pydevd: Sending message related to process being replaced timed-out after 5 seconds\n"
     ]
    },
    {
     "name": "stdout",
     "output_type": "stream",
     "text": [
      "Creating network \"docker_learning_course_default\" with the default driver\n",
      "Creating docker_learning_course_redis_1 ... \n",
      "Creating docker_learning_course_rocketcounter_1 ... \n",
      "\u001b[2Bting docker_learning_course_redis_1         ... \u001b[32mdone\u001b[0m\u001b[2A\u001b[2K"
     ]
    }
   ],
   "source": [
    "! docker-compose up -d"
   ]
  },
  {
   "cell_type": "code",
   "execution_count": 13,
   "metadata": {},
   "outputs": [
    {
     "name": "stderr",
     "output_type": "stream",
     "text": [
      "241.37s - pydevd: Sending message related to process being replaced timed-out after 5 seconds\n"
     ]
    },
    {
     "name": "stdout",
     "output_type": "stream",
     "text": [
      "         Name                   Command           State           Ports         \n",
      "--------------------------------------------------------------------------------\n",
      "docker_learning_course   docker-entrypoint.sh     Up      6379/tcp              \n",
      "_redis_1                 redis ...                                              \n",
      "docker_learning_course   flask run                Up      0.0.0.0:8085-         \n",
      "_rocketcounter_1                                          >5000/tcp,:::8085-    \n",
      "                                                          >5000/tcp             \n"
     ]
    }
   ],
   "source": [
    "! docker-compose ps "
   ]
  },
  {
   "cell_type": "markdown",
   "metadata": {},
   "source": [
    "Сейчас на [localhost:8085](http://127.0.0.1:8085/) доступен 1 экземпляр тестового приложения. Логи приложения можно посмотреть командой:"
   ]
  },
  {
   "cell_type": "code",
   "execution_count": 16,
   "metadata": {},
   "outputs": [
    {
     "name": "stderr",
     "output_type": "stream",
     "text": [
      "516.32s - pydevd: Sending message related to process being replaced timed-out after 5 seconds\n"
     ]
    },
    {
     "name": "stdout",
     "output_type": "stream",
     "text": [
      "Attaching to docker_learning_course_rocketcounter_1\n",
      "\u001b[36mrocketcounter_1  |\u001b[0m  * Serving Flask app 'app.py'\n",
      "\u001b[36mrocketcounter_1  |\u001b[0m  * Debug mode: off\n",
      "\u001b[36mrocketcounter_1  |\u001b[0m \u001b[31m\u001b[1mWARNING: This is a development server. Do not use it in a production deployment. Use a production WSGI server instead.\u001b[0m\n",
      "\u001b[36mrocketcounter_1  |\u001b[0m  * Running on all addresses (0.0.0.0)\n",
      "\u001b[36mrocketcounter_1  |\u001b[0m  * Running on http://127.0.0.1:5000\n",
      "\u001b[36mrocketcounter_1  |\u001b[0m  * Running on http://172.20.0.2:5000\n",
      "\u001b[36mrocketcounter_1  |\u001b[0m \u001b[33mPress CTRL+C to quit\u001b[0m\n",
      "\u001b[36mrocketcounter_1  |\u001b[0m 172.20.0.1 - - [05/Aug/2024 16:02:28] \"GET / HTTP/1.1\" 200 -\n",
      "\u001b[36mrocketcounter_1  |\u001b[0m 172.20.0.1 - - [05/Aug/2024 16:02:28] \"\u001b[33mGET /favicon.ico HTTP/1.1\u001b[0m\" 404 -\n",
      "\u001b[36mrocketcounter_1  |\u001b[0m 172.20.0.1 - - [05/Aug/2024 16:05:13] \"GET /getimage HTTP/1.1\" 200 -\n",
      "\u001b[36mrocketcounter_1  |\u001b[0m 172.20.0.1 - - [05/Aug/2024 16:05:13] \"GET /static/average.png HTTP/1.1\" 200 -\n",
      "\u001b[36mrocketcounter_1  |\u001b[0m 172.20.0.1 - - [05/Aug/2024 16:05:14] \"GET /getimage HTTP/1.1\" 200 -\n",
      "\u001b[36mrocketcounter_1  |\u001b[0m 172.20.0.1 - - [05/Aug/2024 16:05:14] \"GET /static/small.png HTTP/1.1\" 200 -\n",
      "\u001b[36mrocketcounter_1  |\u001b[0m 172.20.0.1 - - [05/Aug/2024 16:05:15] \"GET /getimage HTTP/1.1\" 200 -\n"
     ]
    }
   ],
   "source": [
    "! docker-compose logs rocketcounter"
   ]
  },
  {
   "cell_type": "markdown",
   "metadata": {},
   "source": [
    "Остановим и удалим старые контейнеры и запустим сразу 2 экземпляра rocketcounter, слегка изменив docker-compose.yml"
   ]
  },
  {
   "cell_type": "code",
   "execution_count": 19,
   "metadata": {},
   "outputs": [
    {
     "name": "stderr",
     "output_type": "stream",
     "text": [
      "786.25s - pydevd: Sending message related to process being replaced timed-out after 5 seconds\n"
     ]
    },
    {
     "name": "stdout",
     "output_type": "stream",
     "text": [
      "Stopping docker_learning_course_redis_1         ... \n",
      "Stopping docker_learning_course_rocketcounter_2 ... \n",
      "\u001b[1Bping docker_learning_course_rocketcounter_2 ... \u001b[32mdone\u001b[0m\u001b[1A\u001b[2KRemoving docker_learning_course_redis_1         ... \n",
      "Removing docker_learning_course_rocketcounter_1 ... \n",
      "Removing docker_learning_course_rocketcounter_2 ... \n",
      "\u001b[1BRemoving network docker_learning_course_default \u001b[32mdone\u001b[0m\u001b[1A\u001b[2K\n"
     ]
    }
   ],
   "source": [
    "! docker-compose down"
   ]
  },
  {
   "cell_type": "code",
   "execution_count": 21,
   "metadata": {},
   "outputs": [
    {
     "name": "stderr",
     "output_type": "stream",
     "text": [
      "1017.03s - pydevd: Sending message related to process being replaced timed-out after 5 seconds\n"
     ]
    },
    {
     "name": "stdout",
     "output_type": "stream",
     "text": [
      "services:\n",
      "  redis:\n",
      "    image: redis\n",
      "  rocketcounter:\n",
      "    image: rotorocloud/rocket-counter\n",
      "    ports:\n",
      "    - 8085-8087:5000\n",
      "version: '3.0'"
     ]
    }
   ],
   "source": [
    "! cat docker-compose.yml"
   ]
  },
  {
   "cell_type": "code",
   "execution_count": 20,
   "metadata": {},
   "outputs": [
    {
     "name": "stderr",
     "output_type": "stream",
     "text": [
      "993.55s - pydevd: Sending message related to process being replaced timed-out after 5 seconds\n"
     ]
    },
    {
     "name": "stdout",
     "output_type": "stream",
     "text": [
      "Creating network \"docker_learning_course_default\" with the default driver\n",
      "\u001b[33mWARNING\u001b[0m: The \"rocketcounter\" service specifies a port on the host. If multiple containers for this service are created on a single host, the port will clash.\n",
      "Creating docker_learning_course_rocketcounter_1 ... \n",
      "Creating docker_learning_course_rocketcounter_2 ... \n",
      "Creating docker_learning_course_redis_1         ... \n",
      "\u001b[1Bting docker_learning_course_redis_1         ... \u001b[32mdone\u001b[0m\u001b[2A\u001b[2K\u001b[1A\u001b[2K"
     ]
    },
    {
     "name": "stderr",
     "output_type": "stream",
     "text": [
      "1003.74s - pydevd: Sending message related to process being replaced timed-out after 5 seconds\n"
     ]
    },
    {
     "name": "stdout",
     "output_type": "stream",
     "text": [
      "         Name                   Command           State           Ports         \n",
      "--------------------------------------------------------------------------------\n",
      "docker_learning_course   docker-entrypoint.sh     Up      6379/tcp              \n",
      "_redis_1                 redis ...                                              \n",
      "docker_learning_course   flask run                Up      0.0.0.0:8086-         \n",
      "_rocketcounter_1                                          >5000/tcp,:::8086-    \n",
      "                                                          >5000/tcp             \n",
      "docker_learning_course   flask run                Up      0.0.0.0:8085-         \n",
      "_rocketcounter_2                                          >5000/tcp,:::8085-    \n",
      "                                                          >5000/tcp             \n"
     ]
    }
   ],
   "source": [
    "! docker-compose up -d --scale rocketcounter=2\n",
    "! docker-compose ps "
   ]
  },
  {
   "cell_type": "markdown",
   "metadata": {},
   "source": [
    "Отлично, теперь есть 2 экземпляра приложения, первое развернуто на [localhost:8085](http://127.0.0.1:8085/), второе - [localhost:8086](http://127.0.0.1:8086/). Они оба общаются с redis, и счетчик увеличивается без ошибок.\n",
    "\n",
    "После экспериментов удаляем все контейнеры и останавливаем среду."
   ]
  },
  {
   "cell_type": "code",
   "execution_count": 22,
   "metadata": {},
   "outputs": [
    {
     "name": "stderr",
     "output_type": "stream",
     "text": [
      "1183.83s - pydevd: Sending message related to process being replaced timed-out after 5 seconds\n"
     ]
    },
    {
     "name": "stdout",
     "output_type": "stream",
     "text": [
      "Stopping docker_learning_course_rocketcounter_2 ... \n",
      "Stopping docker_learning_course_redis_1         ... \n",
      "Stopping docker_learning_course_rocketcounter_1 ... \n",
      "\u001b[3Bping docker_learning_course_rocketcounter_2 ... \u001b[32mdone\u001b[0m\u001b[1A\u001b[2K\u001b[3A\u001b[2KRemoving docker_learning_course_rocketcounter_2 ... \n",
      "Removing docker_learning_course_redis_1         ... \n",
      "Removing docker_learning_course_rocketcounter_1 ... \n",
      "\u001b[3BRemoving network docker_learning_course_default \u001b[32mdone\u001b[0m\n"
     ]
    }
   ],
   "source": [
    "! docker-compose down"
   ]
  }
 ],
 "metadata": {
  "kernelspec": {
   "display_name": ".venv",
   "language": "python",
   "name": "python3"
  },
  "language_info": {
   "codemirror_mode": {
    "name": "ipython",
    "version": 3
   },
   "file_extension": ".py",
   "mimetype": "text/x-python",
   "name": "python",
   "nbconvert_exporter": "python",
   "pygments_lexer": "ipython3",
   "version": "3.10.12"
  }
 },
 "nbformat": 4,
 "nbformat_minor": 2
}
